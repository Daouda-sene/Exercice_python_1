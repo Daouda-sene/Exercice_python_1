{
 "cells": [
  {
   "cell_type": "markdown",
   "id": "426486dd",
   "metadata": {
    "id": "426486dd"
   },
   "source": [
    "\n",
    "\n",
    "# Practical_1: Variables and Assignments"
   ]
  },
  {
   "cell_type": "markdown",
   "id": "bcb6b60c",
   "metadata": {
    "id": "9fb19f0d"
   },
   "source": [
    "----\n",
    "\n",
    "### Exercise 1:\n",
    "Declare a variable `x` and assign it the value `10`.\n",
    "\n",
    "```python"
   ]
  },
  {
   "cell_type": "code",
   "execution_count": 7,
   "id": "66f7c509",
   "metadata": {
    "id": "9fb19f0d"
   },
   "outputs": [
    {
     "name": "stdout",
     "output_type": "stream",
     "text": [
      "10\n"
     ]
    }
   ],
   "source": [
    "# Exercise 1\n",
    "x = 10\n",
    "print(x)"
   ]
  },
  {
   "cell_type": "code",
   "execution_count": null,
   "id": "ec5e5edb",
   "metadata": {},
   "outputs": [],
   "source": []
  },
  {
   "cell_type": "markdown",
   "id": "db7f5e8e",
   "metadata": {
    "id": "9fb19f0d"
   },
   "source": [
    "---\n",
    "\n",
    "### Exercise 2:\n",
    "Assign the value `True` to a variable called `is_valid`.\n",
    "\n",
    "```python"
   ]
  },
  {
   "cell_type": "code",
   "execution_count": 15,
   "id": "6189f1d1",
   "metadata": {
    "id": "9fb19f0d"
   },
   "outputs": [
    {
     "ename": "SyntaxError",
     "evalue": "expected ':' (3197301957.py, line 5)",
     "output_type": "error",
     "traceback": [
      "\u001b[0;36m  File \u001b[0;32m\"/tmp/ipykernel_176680/3197301957.py\"\u001b[0;36m, line \u001b[0;32m5\u001b[0m\n\u001b[0;31m    for i in range(3)\u001b[0m\n\u001b[0m                     ^\u001b[0m\n\u001b[0;31mSyntaxError\u001b[0m\u001b[0;31m:\u001b[0m expected ':'\n"
     ]
    }
   ],
   "source": [
    "# Exercise 2\n",
    "true = 1\n",
    "# True is a \n",
    "i= 1\n",
    "for i in range(3)\n",
    "    if (i == true):\n",
    "        print(\"is_valid\")"
   ]
  },
  {
   "cell_type": "markdown",
   "id": "c2998d36",
   "metadata": {
    "id": "9fb19f0d"
   },
   "source": [
    "```\n",
    "\n",
    "---\n",
    "\n",
    "### Exercise 3:\n",
    "Create a string variable `name` with the value \"Python Programming\"."
   ]
  },
  {
   "cell_type": "code",
   "execution_count": 16,
   "id": "c757b7f7",
   "metadata": {
    "id": "9fb19f0d"
   },
   "outputs": [],
   "source": [
    "# Exercise 3\n",
    "Nom = str('daouda')\n"
   ]
  },
  {
   "cell_type": "markdown",
   "id": "4b842dff",
   "metadata": {
    "id": "9fb19f0d"
   },
   "source": [
    "---"
   ]
  },
  {
   "cell_type": "markdown",
   "id": "7382ec1b",
   "metadata": {
    "id": "9fb19f0d"
   },
   "source": [
    "### Exercise 4:\n",
    "Assign the result of `5 + 3` to a variable `sum_result`.\n",
    "\n",
    "```python"
   ]
  },
  {
   "cell_type": "code",
   "execution_count": 17,
   "id": "c8b75f7c",
   "metadata": {},
   "outputs": [
    {
     "name": "stdout",
     "output_type": "stream",
     "text": [
      "8\n"
     ]
    }
   ],
   "source": [
    "## Exercise 4\n",
    "i = 5\n",
    "j = 3\n",
    "sum_result = i+j\n",
    "print(sum_result)"
   ]
  },
  {
   "cell_type": "markdown",
   "id": "d993df23",
   "metadata": {
    "id": "9fb19f0d"
   },
   "source": [
    "---\n",
    "\n",
    "### Exercise 5:\n",
    "### Assign multiple variables in one line: `a = 5`, `b = 10`, `c = 15`.\n"
   ]
  },
  {
   "cell_type": "code",
   "execution_count": 19,
   "id": "a3addffa",
   "metadata": {
    "id": "9fb19f0d"
   },
   "outputs": [],
   "source": [
    "\n",
    "# Exercise 5\n",
    "a = 5 \n",
    "b = 10\n",
    "c = 15"
   ]
  },
  {
   "cell_type": "code",
   "execution_count": 20,
   "id": "ac412815",
   "metadata": {},
   "outputs": [
    {
     "name": "stdout",
     "output_type": "stream",
     "text": [
      "5 10 15\n"
     ]
    }
   ],
   "source": [
    "print(a ,b , c)"
   ]
  },
  {
   "cell_type": "markdown",
   "id": "012c0c8e",
   "metadata": {
    "id": "9fb19f0d"
   },
   "source": [
    "```\n",
    "\n",
    "---\n",
    "\n",
    "### Exercise 6:\n",
    "Assign the value o"
   ]
  },
  {
   "cell_type": "markdown",
   "id": "70725949",
   "metadata": {
    "id": "9fb19f0d"
   },
   "source": [
    "e = 0\n",
    "print(\"zero est un entier:\" 0)"
   ]
  },
  {
   "cell_type": "code",
   "execution_count": 23,
   "id": "007c3d72",
   "metadata": {},
   "outputs": [
    {
     "name": "stdout",
     "output_type": "stream",
     "text": [
      "0\n"
     ]
    }
   ],
   "source": [
    "\n",
    "e = 0 \n",
    "print(e)"
   ]
  },
  {
   "cell_type": "markdown",
   "id": "e66a48cf",
   "metadata": {
    "id": "9fb19f0d"
   },
   "source": [
    "f one variable `x` to another variable `y`.\n",
    "\n",
    "```python"
   ]
  },
  {
   "cell_type": "code",
   "execution_count": null,
   "id": "fcb3bd84",
   "metadata": {},
   "outputs": [],
   "source": []
  },
  {
   "cell_type": "markdown",
   "id": "60db244f",
   "metadata": {
    "id": "9fb19f0d"
   },
   "source": [
    "### Exercise 7:\n",
    "Assign a floating-point number `9.8` to a variable `gravity`.\n",
    "\n",
    "```python\n",
    "# Exercise 7\n",
    "```"
   ]
  },
  {
   "cell_type": "markdown",
   "id": "7b476f95",
   "metadata": {
    "id": "9fb19f0d"
   },
   "source": [
    "a = 9.8."
   ]
  },
  {
   "cell_type": "markdown",
   "id": "454a8bb2",
   "metadata": {
    "id": "9fb19f0d"
   },
   "source": [
    "---\n",
    "\n",
    "### Exercise 8:\n",
    "Create a variable `country` and assign it the string value of your favorite country.\n",
    "\n",
    "```python"
   ]
  },
  {
   "cell_type": "code",
   "execution_count": 26,
   "id": "081c2b58",
   "metadata": {},
   "outputs": [
    {
     "ename": "SyntaxError",
     "evalue": "invalid syntax (3679180414.py, line 2)",
     "output_type": "error",
     "traceback": [
      "\u001b[0;36m  File \u001b[0;32m\"/tmp/ipykernel_176680/3679180414.py\"\u001b[0;36m, line \u001b[0;32m2\u001b[0m\n\u001b[0;31m    for i range(4,5)\u001b[0m\n\u001b[0m          ^\u001b[0m\n\u001b[0;31mSyntaxError\u001b[0m\u001b[0;31m:\u001b[0m invalid syntax\n"
     ]
    }
   ],
   "source": [
    "country = 1\n",
    "for i range(4,5)\n",
    "country= country + 1\n"
   ]
  },
  {
   "cell_type": "markdown",
   "id": "a1e775ed",
   "metadata": {
    "id": "9fb19f0d"
   },
   "source": [
    "\n",
    "```\n",
    "\n",
    "---\n",
    "\n",
    "### Exercise 9:\n",
    "Change the value of variable `age` from `25` to `26` in two separate steps.\n",
    "\n",
    "```python\n",
    "# Exercise 9\n",
    "```"
   ]
  },
  {
   "cell_type": "code",
   "execution_count": 28,
   "id": "5bc9a100",
   "metadata": {},
   "outputs": [
    {
     "ename": "SyntaxError",
     "evalue": "invalid syntax (2438518593.py, line 1)",
     "output_type": "error",
     "traceback": [
      "\u001b[0;36m  File \u001b[0;32m\"/tmp/ipykernel_176680/2438518593.py\"\u001b[0;36m, line \u001b[0;32m1\u001b[0m\n\u001b[0;31m    person_1=[\"Nom\":\"sene\",\u001b[0m\n\u001b[0m                   ^\u001b[0m\n\u001b[0;31mSyntaxError\u001b[0m\u001b[0;31m:\u001b[0m invalid syntax\n"
     ]
    }
   ],
   "source": [
    "person_1=[\"Nom\":\"sene\",\n",
    "\"prenom\":\"daouda\",\n",
    "age = 25]"
   ]
  },
  {
   "cell_type": "markdown",
   "id": "bdd439ae",
   "metadata": {
    "id": "9fb19f0d"
   },
   "source": []
  },
  {
   "cell_type": "markdown",
   "id": "e3a8ea6f",
   "metadata": {
    "id": "9fb19f0d"
   },
   "source": []
  },
  {
   "cell_type": "code",
   "execution_count": 29,
   "id": "3aed1065",
   "metadata": {},
   "outputs": [],
   "source": [
    "\n",
    "i = 30\n",
    "k = 7\n",
    "result=i+k"
   ]
  },
  {
   "cell_type": "code",
   "execution_count": null,
   "id": "dac66203",
   "metadata": {},
   "outputs": [],
   "source": []
  },
  {
   "cell_type": "markdown",
   "id": "d63723bf",
   "metadata": {
    "id": "9fb19f0d"
   },
   "source": [
    "---\n",
    "\n",
    "### Exercise 11:\n",
    "Assign an integer value and a floating-point value to two different variables.\n",
    "\n",
    "```python\n",
    "# Exercise 11\n",
    "```\n"
   ]
  },
  {
   "cell_type": "code",
   "execution_count": 30,
   "id": "0e71ae49",
   "metadata": {},
   "outputs": [],
   "source": [
    "a = 4\n",
    "b = 5.6\n",
    "compt= a+b"
   ]
  },
  {
   "cell_type": "markdown",
   "id": "4158f95d",
   "metadata": {
    "id": "9fb19f0d"
   },
   "source": []
  },
  {
   "cell_type": "markdown",
   "id": "193dcaa7",
   "metadata": {
    "id": "9fb19f0d"
   },
   "source": []
  },
  {
   "cell_type": "markdown",
   "id": "16c4c472",
   "metadata": {
    "id": "9fb19f0d"
   },
   "source": [
    "Assign a boolean value `False` to a variable `is_completed`.\n",
    "\n",
    "```python\n",
    "# Exercise 12\n",
    "```\n",
    "\n",
    "---\n",
    "\n",
    "### Exercise 13:\n",
    "Swap the values of two variables `x` and `y`.\n",
    "\n",
    "```python\n",
    "# Exercise 13"
   ]
  },
  {
   "cell_type": "code",
   "execution_count": 31,
   "id": "c2248a67",
   "metadata": {},
   "outputs": [],
   "source": [
    "x = 3\n",
    "y= 4\n",
    "valeur = x+y"
   ]
  },
  {
   "cell_type": "markdown",
   "id": "a5b18a5c",
   "metadata": {
    "id": "9fb19f0d"
   },
   "source": [
    "```\n",
    "\n",
    "---\n",
    "\n",
    "### Exercise 14:"
   ]
  },
  {
   "cell_type": "markdown",
   "id": "bcf21028",
   "metadata": {
    "id": "9fb19f0d"
   },
   "source": [
    "Assign a complex number `3 + 4j` to a variable `complex_num`.\n",
    "\n",
    "```python\n",
    "# Exercise 14\n",
    "```\n",
    "\n",
    "---"
   ]
  },
  {
   "cell_type": "code",
   "execution_count": null,
   "id": "7096471c",
   "metadata": {},
   "outputs": [],
   "source": [
    "a = 3\n",
    "c = 4\n",
    "i^2 = -1\n",
    "z =a + bi\n"
   ]
  },
  {
   "cell_type": "markdown",
   "id": "38bd6508",
   "metadata": {
    "id": "9fb19f0d"
   },
   "source": [
    "### Exercise 15:\n",
    "Reassign a variable from an integer to a string."
   ]
  },
  {
   "cell_type": "code",
   "execution_count": null,
   "id": "85f53929",
   "metadata": {},
   "outputs": [],
   "source": [
    "r= 5\n",
    "v = str(r)"
   ]
  },
  {
   "cell_type": "markdown",
   "id": "bae3b9ce",
   "metadata": {
    "id": "9fb19f0d"
   },
   "source": [
    "```python\n",
    "# Exercise 15\n",
    "```"
   ]
  },
  {
   "cell_type": "markdown",
   "id": "1093cee5",
   "metadata": {
    "id": "9fb19f0d"
   },
   "source": []
  },
  {
   "cell_type": "markdown",
   "id": "aa2e5893",
   "metadata": {
    "id": "9fb19f0d"
   },
   "source": [
    "---\n",
    "\n",
    "### Exercise 16:\n",
    "Create two variables `first_name` and `last_name`, and assign them your first and last names.\n",
    "\n",
    "```python\n",
    "# Exercise 16"
   ]
  },
  {
   "cell_type": "code",
   "execution_count": null,
   "id": "29a72c88",
   "metadata": {},
   "outputs": [],
   "source": [
    "Nom_1=\"Daouda\"\n",
    "Nom_2 = \"SENE\"\n",
    "IDEN = Nom_1+Nom_2"
   ]
  },
  {
   "cell_type": "markdown",
   "id": "ffcbc193",
   "metadata": {
    "id": "9fb19f0d"
   },
   "source": [
    "```\n",
    "\n",
    "---\n",
    "\n",
    "### Exercise 17:\n",
    "Create a variable `temperature` and assign it the value of `35.5`."
   ]
  },
  {
   "cell_type": "code",
   "execution_count": null,
   "id": "617514b0",
   "metadata": {},
   "outputs": [],
   "source": [
    "temp = 35.5"
   ]
  },
  {
   "cell_type": "markdown",
   "id": "e009601b",
   "metadata": {
    "id": "9fb19f0d"
   },
   "source": [
    "```python\n",
    "# Exercise 17\n",
    "```\n",
    "\n",
    "---"
   ]
  },
  {
   "cell_type": "markdown",
   "id": "c2f23d4a",
   "metadata": {
    "id": "9fb19f0d"
   },
   "source": [
    "### Exercise 18:\n",
    "Assign the result of the multiplication of two numbers `8 * 6` to a variable `product`.\n",
    "\n",
    "```python\n",
    "# Exercise 18\n",
    "```"
   ]
  },
  {
   "cell_type": "code",
   "execution_count": null,
   "id": "afe1cd42",
   "metadata": {},
   "outputs": [],
   "source": [
    "b=8\n",
    "c=6\n",
    "product = b*c"
   ]
  },
  {
   "cell_type": "markdown",
   "id": "ddeaa83c",
   "metadata": {
    "id": "9fb19f0d"
   },
   "source": [
    "---\n",
    "\n",
    "### Exercise 19:\n",
    "Assign a sentence of your choice to a variable `sentence`."
   ]
  },
  {
   "cell_type": "code",
   "execution_count": null,
   "id": "347ac667",
   "metadata": {},
   "outputs": [],
   "source": []
  },
  {
   "cell_type": "markdown",
   "id": "09a3edbd",
   "metadata": {
    "id": "9fb19f0d"
   },
   "source": [
    "```python\n",
    "# Exercise 19\n",
    "```\n",
    "\n",
    "---\n",
    "\n",
    "### Exercise 20:\n",
    "Use an assignment to convert a string `'50'` into an integer variable `int_value`.\n",
    "\n",
    "```python\n",
    "# Exercise 20\n",
    "```"
   ]
  },
  {
   "cell_type": "code",
   "execution_count": null,
   "id": "855e38a7",
   "metadata": {},
   "outputs": [],
   "source": [
    "int_value = str(50)"
   ]
  },
  {
   "cell_type": "markdown",
   "id": "f3aef021",
   "metadata": {
    "id": "9fb19f0d"
   },
   "source": [
    "---\n",
    "\n",
    "### Exercise 21:\n",
    "Assign the result of dividing `144` by `12` to a variable `quotient`.\n",
    "\n",
    "```python"
   ]
  },
  {
   "cell_type": "code",
   "execution_count": null,
   "id": "f8fcfcd2",
   "metadata": {},
   "outputs": [],
   "source": [
    "quotient = 144/12"
   ]
  },
  {
   "cell_type": "markdown",
   "id": "d62165a0",
   "metadata": {
    "id": "9fb19f0d"
   },
   "source": [
    "# Exercise 21"
   ]
  },
  {
   "cell_type": "markdown",
   "id": "6007ec9f",
   "metadata": {
    "id": "9fb19f0d"
   },
   "source": [
    "```"
   ]
  },
  {
   "cell_type": "markdown",
   "id": "d40fbff3",
   "metadata": {
    "id": "9fb19f0d"
   },
   "source": []
  },
  {
   "cell_type": "markdown",
   "id": "4fdf5260",
   "metadata": {
    "id": "9fb19f0d"
   },
   "source": [
    "---\n",
    "\n",
    "### Exercise 22:\n",
    "Assign the remainder of `47 divided by 5` to a variable `remainder`.\n",
    "\n",
    "```python\n",
    "# Exercise 22\n",
    "```\n",
    "\n"
   ]
  },
  {
   "cell_type": "code",
   "execution_count": null,
   "id": "c1379b2e",
   "metadata": {},
   "outputs": [],
   "source": [
    "remainder=47/5"
   ]
  },
  {
   "cell_type": "markdown",
   "id": "1a3f7c8b",
   "metadata": {
    "id": "9fb19f0d"
   },
   "source": [
    "### Exercise 23:\n",
    "Create a variable `is_student` and assign it the value `True`.\n",
    "\n",
    "```python\n",
    "# Exercise 23\n",
    "```\n",
    "\n",
    "---"
   ]
  },
  {
   "cell_type": "code",
   "execution_count": null,
   "id": "4dfcbaa5",
   "metadata": {},
   "outputs": [],
   "source": [
    "is_student = True"
   ]
  },
  {
   "cell_type": "markdown",
   "id": "ff11fbd1",
   "metadata": {
    "id": "9fb19f0d"
   },
   "source": [
    "### Exercise 24:\n",
    "Use a variable to store the result of a modulo operation: `45 % 4`."
   ]
  },
  {
   "cell_type": "code",
   "execution_count": null,
   "id": "2d532373",
   "metadata": {},
   "outputs": [],
   "source": [
    "r=45%4"
   ]
  },
  {
   "cell_type": "markdown",
   "id": "07925c0f",
   "metadata": {
    "id": "9fb19f0d"
   },
   "source": [
    "```python\n",
    "# Exercise 24\n",
    "```\n",
    "\n",
    "---\n",
    "\n",
    "### Exercise 25:\n",
    "Create a variable `pi` and assign it the value `3.14159`.\n",
    "\n",
    "```python\n",
    "# Exercise 25\n",
    "```"
   ]
  },
  {
   "cell_type": "code",
   "execution_count": null,
   "id": "871e8c64",
   "metadata": {},
   "outputs": [],
   "source": [
    "pi=3.14159"
   ]
  },
  {
   "cell_type": "markdown",
   "id": "6454f177",
   "metadata": {
    "id": "9fb19f0d"
   },
   "source": [
    "---\n",
    "\n",
    "### Exercise 26:\n",
    "Create two variables `length` and `width`, assign them values, and calculate the area of a rectangle.\n",
    "\n",
    "```python"
   ]
  },
  {
   "cell_type": "code",
   "execution_count": null,
   "id": "66953eef",
   "metadata": {},
   "outputs": [],
   "source": [
    "t=\"length\"\n",
    "r =\"width\""
   ]
  },
  {
   "cell_type": "markdown",
   "id": "47e417fb",
   "metadata": {
    "id": "9fb19f0d"
   },
   "source": [
    "# Exercise 26\n",
    "```\n",
    "\n",
    "---"
   ]
  },
  {
   "cell_type": "markdown",
   "id": "5b5f8583",
   "metadata": {
    "id": "9fb19f0d"
   },
   "source": []
  },
  {
   "cell_type": "markdown",
   "id": "9d146499",
   "metadata": {
    "id": "9fb19f0d"
   },
   "source": [
    "### Exercise 27:\n",
    "Assign a negative number to a variable `negative_value`.\n",
    "\n",
    "```python"
   ]
  },
  {
   "cell_type": "code",
   "execution_count": null,
   "id": "5fcd17b2",
   "metadata": {},
   "outputs": [],
   "source": [
    "negative_value =-5"
   ]
  },
  {
   "cell_type": "markdown",
   "id": "009f53f3",
   "metadata": {
    "id": "9fb19f0d"
   },
   "source": [
    "# Exercise 27\n",
    "```\n",
    "\n",
    "---\n",
    "\n",
    "### Exercise 28:\n",
    "Assign a string containing a special character (e.g., \"Hello, World!\") to a var"
   ]
  },
  {
   "cell_type": "code",
   "execution_count": null,
   "id": "44dba9de",
   "metadata": {},
   "outputs": [],
   "source": [
    "r= \"Hello, world\""
   ]
  },
  {
   "cell_type": "markdown",
   "id": "25a991a5",
   "metadata": {
    "id": "9fb19f0d"
   },
   "source": [
    "iable `greeting`.\n",
    "\n",
    "```python\n",
    "# Exercise 28\n",
    "```\n",
    "\n",
    "---\n",
    "\n",
    "### Exercise 29:"
   ]
  },
  {
   "cell_type": "markdown",
   "id": "a49bda48",
   "metadata": {
    "id": "9fb19f0d"
   },
   "source": [
    "Create a variable `population` and assign it a large integer value (in billions).\n",
    "\n",
    "```python"
   ]
  },
  {
   "cell_type": "code",
   "execution_count": null,
   "id": "bea73c1b",
   "metadata": {},
   "outputs": [],
   "source": [
    "population = [Dakar, fatick, thies]"
   ]
  },
  {
   "cell_type": "markdown",
   "id": "288b104b",
   "metadata": {
    "id": "9fb19f0d"
   },
   "source": [
    "# Exercise 29\n",
    "```\n",
    "\n",
    "---"
   ]
  },
  {
   "cell_type": "markdown",
   "id": "24cd344b",
   "metadata": {
    "id": "9fb19f0d"
   },
   "source": [
    "### Exercise 30:\n",
    "Use a variable to store the result of raising `2` to the power of `8`.\n",
    "\n",
    "```python\n",
    "# Exercise 30\n",
    "```\n",
    "\n",
    "---"
   ]
  },
  {
   "cell_type": "code",
   "execution_count": null,
   "id": "44448f8a",
   "metadata": {},
   "outputs": [],
   "source": [
    "store = 2^3"
   ]
  },
  {
   "cell_type": "code",
   "execution_count": null,
   "id": "9d8e8c9a",
   "metadata": {},
   "outputs": [],
   "source": []
  },
  {
   "cell_type": "code",
   "execution_count": null,
   "id": "6072d6c4",
   "metadata": {},
   "outputs": [],
   "source": []
  },
  {
   "cell_type": "markdown",
   "id": "27e7842a",
   "metadata": {
    "id": "9fb19f0d"
   },
   "source": [
    "### Exercise 31:\n",
    "Assign a list of your favorite fruits to a variable `fruits`.\n",
    "\n",
    "```python\n",
    "# Exercise 31\n",
    "```\n",
    "\n",
    "---"
   ]
  },
  {
   "cell_type": "code",
   "execution_count": null,
   "id": "6edc11c9",
   "metadata": {},
   "outputs": [],
   "source": [
    "fruits=[\"Pomme\", \"Orange\", \"Banane\"]"
   ]
  },
  {
   "cell_type": "markdown",
   "id": "01bd1f7d",
   "metadata": {
    "id": "9fb19f0d"
   },
   "source": [
    "### Exercise 32:\n",
    "Assign a tuple of three numbers to a variable `coordinates`.\n",
    "\n",
    "```python\n",
    "# Exercise 32\n",
    "```\n",
    "\n",
    "---\n",
    "\n",
    "### Exercise 33:\n",
    "Assign a dictionary with keys `name` and `age` to a variable `person`."
   ]
  },
  {
   "cell_type": "code",
   "execution_count": null,
   "id": "09e760c7",
   "metadata": {},
   "outputs": [],
   "source": [
    "person =[Nom=\"sene\", Prenom=\"Daouda\"]"
   ]
  },
  {
   "cell_type": "markdown",
   "id": "1530a4e8",
   "metadata": {
    "id": "9fb19f0d"
   },
   "source": [
    "```python\n",
    "# Exercise 33\n",
    "```\n",
    "\n",
    "---\n",
    "\n",
    "### Exercise 34:\n",
    "Use variables to store the sum of two floating-point numbers.\n",
    "\n",
    "```python"
   ]
  },
  {
   "cell_type": "markdown",
   "id": "9fb19f0d",
   "metadata": {
    "id": "9fb19f0d"
   },
   "source": [
    "# Exercise 34\n",
    "```\n",
    "\n",
    "---\n",
    "\n",
    "### Exercise 35:\n",
    "Create a variable `is_sunny` and assign it the result of a comparison `10 > 5`.\n",
    "\n",
    "```python\n",
    "# Exercise 35\n",
    "```\n",
    "\n",
    "---\n",
    "\n",
    "### Exercise 36:\n",
    "Assign a string and an integer to two different variables, then print both on one line.\n",
    "\n",
    "```python\n",
    "# Exercise 36\n",
    "```\n",
    "\n",
    "---\n",
    "\n",
    "### Exercise 37:\n",
    "Reassign a variable that originally held a number to a boolean value.\n",
    "\n",
    "```python\n",
    "# Exercise 37\n",
    "```\n",
    "\n",
    "---\n",
    "\n",
    "### Exercise 38:\n",
    "Create a variable `is_weekend` and assign it the result of `False`.\n",
    "\n",
    "```python\n",
    "# Exercise 38\n",
    "```\n",
    "\n",
    "---\n",
    "\n",
    "### Exercise 39:\n",
    "Assign a multi-line string to a variable `description`.\n",
    "\n",
    "```python\n",
    "# Exercise 39\n",
    "```\n",
    "\n",
    "---\n",
    "\n",
    "### Exercise 40:\n",
    "Use variables to store the result of the absolute value of `-25`.\n",
    "\n",
    "```python\n",
    "# Exercise 40\n",
    "```\n",
    "\n",
    "---\n",
    "\n",
    "### Exercise 41:\n",
    "Assign the result of a floor division `100 // 6` to a variable `floor_div_result`.\n",
    "\n",
    "```python\n",
    "# Exercise 41\n",
    "```\n",
    "\n",
    "---\n",
    "\n",
    "### Exercise 42:\n",
    "Assign the result of adding a floating-point number to an integer to a variable `mixed_sum`.\n",
    "\n",
    "```python\n",
    "# Exercise 42\n",
    "```\n",
    "\n",
    "---\n",
    "\n",
    "\n",
    "### Exercise 43:\n",
    "Assign a boolean value based on the comparison of two variables `a = 10` and `b = 15`.\n",
    "\n",
    "```python\n",
    "# Exercise 43\n",
    "```\n",
    "\n",
    "---\n",
    "\n",
    "### Exercise 44:\n",
    "Assign a long sentence to a variable and count its characters using `len()`.\n",
    "\n",
    "```python\n",
    "# Exercise 44\n",
    "```\n",
    "\n",
    "---\n",
    "\n",
    "### Exercise 45:\n",
    "Assign a fractional result `7 / 3` to a variable `division_result`.\n",
    "\n",
    "```python\n",
    "# Exercise 45\n",
    "```\n",
    "\n",
    "---\n",
    "\n",
    "### Exercise 46:\n",
    "Create a variable `speed` and assign it the value of 100 kilometers per hour.\n",
    "\n",
    "```python\n",
    "# Exercise 46\n",
    "```\n",
    "\n",
    "---\n",
    "\n",
    "### Exercise 47:\n",
    "Assign a multi-variable equation like `y = 3x + 5` where `x = 4` to a variable `y`.\n",
    "\n",
    "```python\n",
    "# Exercise 47\n",
    "```\n",
    "\n",
    "---\n",
    "\n",
    "### Exercise 48:\n",
    "Use variables to calculate and store the average of three numbers.\n",
    "\n",
    "```python\n",
    "# Exercise 48\n",
    "```\n",
    "\n",
    "****"
   ]
  },
  {
   "cell_type": "code",
   "execution_count": null,
   "id": "d51392bc",
   "metadata": {},
   "outputs": [],
   "source": []
  },
  {
   "cell_type": "code",
   "execution_count": null,
   "id": "d0676a4f",
   "metadata": {},
   "outputs": [],
   "source": []
  }
 ],
 "metadata": {
  "colab": {
   "provenance": []
  },
  "kernelspec": {
   "display_name": "Python 3 (ipykernel)",
   "language": "python",
   "name": "python3"
  },
  "language_info": {
   "codemirror_mode": {
    "name": "ipython",
    "version": 3
   },
   "file_extension": ".py",
   "mimetype": "text/x-python",
   "name": "python",
   "nbconvert_exporter": "python",
   "pygments_lexer": "ipython3",
   "version": "3.10.12"
  }
 },
 "nbformat": 4,
 "nbformat_minor": 5
}
